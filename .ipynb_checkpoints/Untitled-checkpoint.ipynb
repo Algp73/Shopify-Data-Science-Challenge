{
 "cells": [
  {
   "cell_type": "code",
   "execution_count": 1,
   "metadata": {},
   "outputs": [],
   "source": [
    "import unicodecsv\n",
    "\n",
    "with open('2019 Winter Data Science Intern Challenge Data Set - Sheet1.csv', 'rb') as f:\n",
    "    reader = unicodecsv.DictReader(f)\n",
    "    dataset = list(reader)"
   ]
  },
  {
   "cell_type": "code",
   "execution_count": 2,
   "metadata": {},
   "outputs": [],
   "source": [
    "normal = []\n",
    "industrial = []\n",
    "expensive = []\n",
    "\n",
    "for data in dataset:\n",
    "    data['order_amount'] = int(data['order_amount'])\n",
    "    data['total_items'] = int(data['total_items'])"
   ]
  },
  {
   "cell_type": "code",
   "execution_count": 3,
   "metadata": {},
   "outputs": [],
   "source": [
    "#We usethe fact that all industrial orders are = 704000, all expensive\n",
    "#orders are <70400 and >= 25725 and all normal ones are <25725\n",
    "for data in dataset:\n",
    "    if data['order_amount'] < 25725:\n",
    "        normal.append(data)\n",
    "    elif 704000 > data['order_amount'] >= 25725:\n",
    "        expensive.append(data)\n",
    "    elif data['order_amount'] == 704000:\n",
    "        industrial.append(data)    "
   ]
  },
  {
   "cell_type": "code",
   "execution_count": 4,
   "metadata": {},
   "outputs": [],
   "source": [
    "spent1 = 0\n",
    "items1 = 0\n",
    "for data in normal:\n",
    "    spent1 += data['order_amount']\n",
    "    items1 += data['total_items']\n",
    "snkAvg1 = spent1/items1\n",
    "orderAvg1 = items1/len(normal)\n",
    "\n",
    "spent2 = 0\n",
    "items2 = 0\n",
    "for data in industrial:\n",
    "    spent2 += data['order_amount']\n",
    "    items2 += data['total_items']\n",
    "snkAvg2 = spent2/items2\n",
    "orderAvg2 = items2/len(industrial)\n",
    "\n",
    "spent3 = 0\n",
    "items3 = 0\n",
    "for data in expensive:\n",
    "    spent3 += data['order_amount']\n",
    "    items3 += data['total_items']\n",
    "snkAvg3 = spent3/items3\n",
    "orderAvg3 = items3/len(expensive) "
   ]
  },
  {
   "cell_type": "code",
   "execution_count": 5,
   "metadata": {},
   "outputs": [
    {
     "name": "stdout",
     "output_type": "stream",
     "text": [
      "Normal AOV:  302.58051448247926\n",
      "Industrial AOV:  704000.0\n",
      "Expensive AOV:  49213.04347826087\n"
     ]
    }
   ],
   "source": [
    "#AOV for each of the 3 categories\n",
    "print('Normal AOV: ', snkAvg1 * orderAvg1)\n",
    "print('Industrial AOV: ', snkAvg2 * orderAvg2)\n",
    "print('Expensive AOV: ', snkAvg3 * orderAvg3)"
   ]
  },
  {
   "cell_type": "code",
   "execution_count": 6,
   "metadata": {},
   "outputs": [
    {
     "name": "stdout",
     "output_type": "stream",
     "text": [
      "Normal ASV:  307.01149425287355\n",
      "Expensive ASV:  25725.0\n"
     ]
    }
   ],
   "source": [
    "#Average sneaker value for all except category 3 orders\n",
    "spent12 = 0\n",
    "items12 = 0\n",
    "for data in (normal+industrial):\n",
    "    spent12 += data['order_amount']\n",
    "    items12 += data['total_items']\n",
    "snkAvg12 = spent12/items12\n",
    "print('Normal ASV: ', snkAvg12)\n",
    "print('Expensive ASV: ', snkAvg3)"
   ]
  }
 ],
 "metadata": {
  "kernelspec": {
   "display_name": "Python 3",
   "language": "python",
   "name": "python3"
  },
  "language_info": {
   "codemirror_mode": {
    "name": "ipython",
    "version": 3
   },
   "file_extension": ".py",
   "mimetype": "text/x-python",
   "name": "python",
   "nbconvert_exporter": "python",
   "pygments_lexer": "ipython3",
   "version": "3.7.1"
  }
 },
 "nbformat": 4,
 "nbformat_minor": 2
}
